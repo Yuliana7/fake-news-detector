{
 "cells": [
  {
   "cell_type": "markdown",
   "metadata": {},
   "source": [
    "# Fake News Detection: What NLP tools available can help us tackle this issue?"
   ]
  },
  {
   "cell_type": "markdown",
   "metadata": {},
   "source": [
    "## Introduction\n",
    "\n",
    "The rise of fake news and propaganda has sparked numerous research efforts to address the problem using machine learning. Some researchers concentrate on Deep Learning techniques, while others opt for a more hands-on approach. As stated in [this study](https://www.hindawi.com/journals/complexity/2021/5557784/), a numerous researches have have proven the significance of the CNN and deep learning models for classification of fake news, however there is still a room for improvement. It is also found that LIAR dataset is one of the widely used benchmark dataset for the detection of fake news.\n",
    "\n",
    "This research project concentrates mainly on the feature engineering. Our goal is to create features that can be leveraged for training neural networks, effectively bridging the gap between manual methods and automated Deep Learning techniques."
   ]
  },
  {
   "cell_type": "markdown",
   "metadata": {},
   "source": [
    "NLP project plan:\n",
    "\n",
    "1. Data Acquisition ✅\n",
    "2. EDA ✅ \n",
    "3. Text Processing ✅\n",
    "4. Feature Engineering\n",
    "   - TF-IDF with ensamble method\n",
    "   - NER\n",
    "   - Embeddings (one hot encoding)\n",
    "   - N-grams\n",
    "   - Word2Vec\n",
    "   - not SVM /LDA!1  \n",
    "5. Feature Extraction\n",
    "   - Chi2\n",
    "6. Further work (model building)\n",
    "7. Conclusions"
   ]
  },
  {
   "cell_type": "markdown",
   "metadata": {},
   "source": [
    "Before jumping to the code, let us import all the tools necessary for this project."
   ]
  },
  {
   "cell_type": "code",
   "execution_count": 51,
   "metadata": {},
   "outputs": [],
   "source": [
    "import pandas as pd\n",
    "import numpy as np\n",
    "import matplotlib.pyplot as plt\n",
    "import seaborn as sns\n",
    "\n",
    "import nltk\n",
    "from nltk.tokenize import word_tokenize\n",
    "from nltk.corpus import stopwords\n",
    "from nltk.stem import PorterStemmer\n",
    "from string import punctuation\n",
    "\n",
    "from sklearn.feature_extraction.text import TfidfVectorizer\n",
    "from sklearn.feature_extraction.text import CountVectorizer\n",
    "\n",
    "import spacy\n",
    "\n",
    "from gensim.models import Word2Vec\n",
    "\n",
    "import re\n",
    "from num2words import num2words"
   ]
  },
  {
   "cell_type": "code",
   "execution_count": null,
   "metadata": {},
   "outputs": [],
   "source": [
    "nltk.download('punkt')\n",
    "nltk.download('stopwords')\n",
    "nlp = spacy.load(\"en_core_web_sm\")"
   ]
  },
  {
   "cell_type": "markdown",
   "metadata": {},
   "source": [
    "## 1. Data Acquisition\n",
    "\n",
    "In this project we will be using [LIAR](https://paperswithcode.com/dataset/liar) dataset. We have downloaded the resources into the `dataset` folder, so now we can load the data into `pandas` data frame."
   ]
  },
  {
   "cell_type": "code",
   "execution_count": 25,
   "metadata": {},
   "outputs": [],
   "source": [
    "liar_df = pd.read_csv(\"dataset/train.tsv\", sep='\\t', header=None)"
   ]
  },
  {
   "cell_type": "markdown",
   "metadata": {},
   "source": [
    "According to the documentation, the dataset has the following columns:\n",
    "\n",
    "    Column 1: the ID of the statement ([ID].json).\n",
    "    Column 2: the label.\n",
    "    Column 3: the statement.\n",
    "    Column 4: the subject(s).\n",
    "    Column 5: the speaker.\n",
    "    Column 6: the speaker's job title.\n",
    "    Column 7: the state info.\n",
    "    Column 8: the party affiliation.\n",
    "    Column 9-13: the total credit history count, including the current statement.\n",
    "    9: barely true counts.\n",
    "    10: false counts.\n",
    "    11: half true counts.\n",
    "    12: mostly true counts.\n",
    "    13: pants on fire counts.\n",
    "    Column 14: the context (venue / location of the speech or statement)."
   ]
  },
  {
   "cell_type": "markdown",
   "metadata": {},
   "source": [
    "We can define a `column_names` variable to store them and introduce them as headers into our data frame."
   ]
  },
  {
   "cell_type": "code",
   "execution_count": 47,
   "metadata": {},
   "outputs": [
    {
     "data": {
      "text/html": [
       "<div>\n",
       "<style scoped>\n",
       "    .dataframe tbody tr th:only-of-type {\n",
       "        vertical-align: middle;\n",
       "    }\n",
       "\n",
       "    .dataframe tbody tr th {\n",
       "        vertical-align: top;\n",
       "    }\n",
       "\n",
       "    .dataframe thead th {\n",
       "        text-align: right;\n",
       "    }\n",
       "</style>\n",
       "<table border=\"1\" class=\"dataframe\">\n",
       "  <thead>\n",
       "    <tr style=\"text-align: right;\">\n",
       "      <th></th>\n",
       "      <th>Statement ID</th>\n",
       "      <th>Label</th>\n",
       "      <th>Statement</th>\n",
       "      <th>Subject</th>\n",
       "      <th>Speaker</th>\n",
       "      <th>Speaker's job title</th>\n",
       "      <th>State</th>\n",
       "      <th>Party affiliation</th>\n",
       "      <th>Barely true</th>\n",
       "      <th>False</th>\n",
       "      <th>Half true</th>\n",
       "      <th>Mostly true</th>\n",
       "      <th>Pants on fire</th>\n",
       "      <th>Statement context</th>\n",
       "    </tr>\n",
       "  </thead>\n",
       "  <tbody>\n",
       "    <tr>\n",
       "      <th>0</th>\n",
       "      <td>2635.json</td>\n",
       "      <td>false</td>\n",
       "      <td>Says the Annies List political group supports ...</td>\n",
       "      <td>abortion</td>\n",
       "      <td>dwayne-bohac</td>\n",
       "      <td>State representative</td>\n",
       "      <td>Texas</td>\n",
       "      <td>republican</td>\n",
       "      <td>0.0</td>\n",
       "      <td>1.0</td>\n",
       "      <td>0.0</td>\n",
       "      <td>0.0</td>\n",
       "      <td>0.0</td>\n",
       "      <td>a mailer</td>\n",
       "    </tr>\n",
       "    <tr>\n",
       "      <th>1</th>\n",
       "      <td>10540.json</td>\n",
       "      <td>half-true</td>\n",
       "      <td>When did the decline of coal start? It started...</td>\n",
       "      <td>energy,history,job-accomplishments</td>\n",
       "      <td>scott-surovell</td>\n",
       "      <td>State delegate</td>\n",
       "      <td>Virginia</td>\n",
       "      <td>democrat</td>\n",
       "      <td>0.0</td>\n",
       "      <td>0.0</td>\n",
       "      <td>1.0</td>\n",
       "      <td>1.0</td>\n",
       "      <td>0.0</td>\n",
       "      <td>a floor speech.</td>\n",
       "    </tr>\n",
       "    <tr>\n",
       "      <th>2</th>\n",
       "      <td>324.json</td>\n",
       "      <td>mostly-true</td>\n",
       "      <td>Hillary Clinton agrees with John McCain \"by vo...</td>\n",
       "      <td>foreign-policy</td>\n",
       "      <td>barack-obama</td>\n",
       "      <td>President</td>\n",
       "      <td>Illinois</td>\n",
       "      <td>democrat</td>\n",
       "      <td>70.0</td>\n",
       "      <td>71.0</td>\n",
       "      <td>160.0</td>\n",
       "      <td>163.0</td>\n",
       "      <td>9.0</td>\n",
       "      <td>Denver</td>\n",
       "    </tr>\n",
       "    <tr>\n",
       "      <th>3</th>\n",
       "      <td>1123.json</td>\n",
       "      <td>false</td>\n",
       "      <td>Health care reform legislation is likely to ma...</td>\n",
       "      <td>health-care</td>\n",
       "      <td>blog-posting</td>\n",
       "      <td>NaN</td>\n",
       "      <td>NaN</td>\n",
       "      <td>none</td>\n",
       "      <td>7.0</td>\n",
       "      <td>19.0</td>\n",
       "      <td>3.0</td>\n",
       "      <td>5.0</td>\n",
       "      <td>44.0</td>\n",
       "      <td>a news release</td>\n",
       "    </tr>\n",
       "    <tr>\n",
       "      <th>4</th>\n",
       "      <td>9028.json</td>\n",
       "      <td>half-true</td>\n",
       "      <td>The economic turnaround started at the end of ...</td>\n",
       "      <td>economy,jobs</td>\n",
       "      <td>charlie-crist</td>\n",
       "      <td>NaN</td>\n",
       "      <td>Florida</td>\n",
       "      <td>democrat</td>\n",
       "      <td>15.0</td>\n",
       "      <td>9.0</td>\n",
       "      <td>20.0</td>\n",
       "      <td>19.0</td>\n",
       "      <td>2.0</td>\n",
       "      <td>an interview on CNN</td>\n",
       "    </tr>\n",
       "  </tbody>\n",
       "</table>\n",
       "</div>"
      ],
      "text/plain": [
       "  Statement ID        Label  \\\n",
       "0    2635.json        false   \n",
       "1   10540.json    half-true   \n",
       "2     324.json  mostly-true   \n",
       "3    1123.json        false   \n",
       "4    9028.json    half-true   \n",
       "\n",
       "                                           Statement  \\\n",
       "0  Says the Annies List political group supports ...   \n",
       "1  When did the decline of coal start? It started...   \n",
       "2  Hillary Clinton agrees with John McCain \"by vo...   \n",
       "3  Health care reform legislation is likely to ma...   \n",
       "4  The economic turnaround started at the end of ...   \n",
       "\n",
       "                              Subject         Speaker   Speaker's job title  \\\n",
       "0                            abortion    dwayne-bohac  State representative   \n",
       "1  energy,history,job-accomplishments  scott-surovell        State delegate   \n",
       "2                      foreign-policy    barack-obama             President   \n",
       "3                         health-care    blog-posting                   NaN   \n",
       "4                        economy,jobs   charlie-crist                   NaN   \n",
       "\n",
       "      State Party affiliation  Barely true  False  Half true  Mostly true  \\\n",
       "0     Texas        republican          0.0    1.0        0.0          0.0   \n",
       "1  Virginia          democrat          0.0    0.0        1.0          1.0   \n",
       "2  Illinois          democrat         70.0   71.0      160.0        163.0   \n",
       "3       NaN              none          7.0   19.0        3.0          5.0   \n",
       "4   Florida          democrat         15.0    9.0       20.0         19.0   \n",
       "\n",
       "   Pants on fire    Statement context  \n",
       "0            0.0             a mailer  \n",
       "1            0.0      a floor speech.  \n",
       "2            9.0               Denver  \n",
       "3           44.0       a news release  \n",
       "4            2.0  an interview on CNN  "
      ]
     },
     "execution_count": 47,
     "metadata": {},
     "output_type": "execute_result"
    }
   ],
   "source": [
    "column_names = ['Statement ID', 'Label', 'Statement', 'Subject', 'Speaker', 'Speaker\\'s job title', 'State', 'Party affiliation', 'Barely true', 'False', 'Half true', 'Mostly true', 'Pants on fire', 'Statement context']\n",
    "liar_df.columns = column_names\n",
    "\n",
    "liar_df.head()"
   ]
  },
  {
   "cell_type": "code",
   "execution_count": 56,
   "metadata": {},
   "outputs": [
    {
     "name": "stdout",
     "output_type": "stream",
     "text": [
      "<class 'pandas.core.frame.DataFrame'>\n",
      "RangeIndex: 10240 entries, 0 to 10239\n",
      "Data columns (total 14 columns):\n",
      " #   Column               Non-Null Count  Dtype  \n",
      "---  ------               --------------  -----  \n",
      " 0   Statement ID         10240 non-null  object \n",
      " 1   Label                10240 non-null  object \n",
      " 2   Statement            10240 non-null  object \n",
      " 3   Subject              10238 non-null  object \n",
      " 4   Speaker              10238 non-null  object \n",
      " 5   Speaker's job title  7342 non-null   object \n",
      " 6   State                8030 non-null   object \n",
      " 7   Party affiliation    10238 non-null  object \n",
      " 8   Barely true          10238 non-null  float64\n",
      " 9   False                10238 non-null  float64\n",
      " 10  Half true            10238 non-null  float64\n",
      " 11  Mostly true          10238 non-null  float64\n",
      " 12  Pants on fire        10238 non-null  float64\n",
      " 13  Statement context    10138 non-null  object \n",
      "dtypes: float64(5), object(9)\n",
      "memory usage: 1.1+ MB\n"
     ]
    }
   ],
   "source": [
    "liar_df.info()"
   ]
  },
  {
   "cell_type": "markdown",
   "metadata": {},
   "source": [
    "Before manipulating the data, let us make sure that we don't have any missing values that is important to us, like statements and scores. As seen in the `head()` output, there are some missing values in `Speaker's job title`, `State` and `Party affiliation` columns, but that is less important data for our analysis."
   ]
  },
  {
   "cell_type": "code",
   "execution_count": 30,
   "metadata": {},
   "outputs": [],
   "source": [
    "def check_column_values(df, columns_to_check):\n",
    "    nan_check = df[columns_to_check].isna().any()\n",
    "    empty_string_check = (df[columns_to_check] == '').any()\n",
    "    none_check = pd.isna(df[columns_to_check]).any()\n",
    "    \n",
    "    result = {\n",
    "        'NaN Check': nan_check,\n",
    "        'Empty String Check': empty_string_check,\n",
    "        'None Check': none_check\n",
    "    }\n",
    "\n",
    "    return result"
   ]
  },
  {
   "cell_type": "code",
   "execution_count": 48,
   "metadata": {},
   "outputs": [
    {
     "data": {
      "text/plain": [
       "{'NaN Check': Label            False\n",
       " Statement        False\n",
       " Subject           True\n",
       " Barely true       True\n",
       " False             True\n",
       " Half true         True\n",
       " Mostly true       True\n",
       " Pants on fire     True\n",
       " dtype: bool,\n",
       " 'Empty String Check': Label            False\n",
       " Statement        False\n",
       " Subject          False\n",
       " Barely true      False\n",
       " False            False\n",
       " Half true        False\n",
       " Mostly true      False\n",
       " Pants on fire    False\n",
       " dtype: bool,\n",
       " 'None Check': Label            False\n",
       " Statement        False\n",
       " Subject           True\n",
       " Barely true       True\n",
       " False             True\n",
       " Half true         True\n",
       " Mostly true       True\n",
       " Pants on fire     True\n",
       " dtype: bool}"
      ]
     },
     "execution_count": 48,
     "metadata": {},
     "output_type": "execute_result"
    }
   ],
   "source": [
    "check_column_values(liar_df, ['Label', 'Statement', 'Subject', 'Barely true', 'False', 'Half true', 'Mostly true', 'Pants on fire'])"
   ]
  },
  {
   "cell_type": "markdown",
   "metadata": {},
   "source": [
    "It looks like we do have missing values in numerous columns, let us explore them more."
   ]
  },
  {
   "cell_type": "code",
   "execution_count": 49,
   "metadata": {},
   "outputs": [
    {
     "name": "stdout",
     "output_type": "stream",
     "text": [
      "<class 'pandas.core.frame.DataFrame'>\n",
      "Index: 2 entries, 2142 to 9375\n",
      "Data columns (total 14 columns):\n",
      " #   Column               Non-Null Count  Dtype  \n",
      "---  ------               --------------  -----  \n",
      " 0   Statement ID         2 non-null      object \n",
      " 1   Label                2 non-null      object \n",
      " 2   Statement            2 non-null      object \n",
      " 3   Subject              0 non-null      object \n",
      " 4   Speaker              0 non-null      object \n",
      " 5   Speaker's job title  0 non-null      object \n",
      " 6   State                0 non-null      object \n",
      " 7   Party affiliation    0 non-null      object \n",
      " 8   Barely true          0 non-null      float64\n",
      " 9   False                0 non-null      float64\n",
      " 10  Half true            0 non-null      float64\n",
      " 11  Mostly true          0 non-null      float64\n",
      " 12  Pants on fire        0 non-null      float64\n",
      " 13  Statement context    0 non-null      object \n",
      "dtypes: float64(5), object(9)\n",
      "memory usage: 240.0+ bytes\n"
     ]
    }
   ],
   "source": [
    "subj_na = liar_df[liar_df['Subject'].isna()]\n",
    "subj_na.info()"
   ]
  },
  {
   "cell_type": "code",
   "execution_count": 51,
   "metadata": {},
   "outputs": [
    {
     "data": {
      "text/plain": [
       "'The fact is that although we have had a president who is opposed to abortion over the last eight years, abortions have not gone down.\\'\\'\\tabortion\\tbarack-obama\\tPresident\\tIllinois\\tdemocrat\\t70\\t71\\t160\\t163\\t9\\ta TV interview with megachurch pastor Rick Warren in Lake Forest, Calif.\\n2724.json\\ttrue\\tMost of the jobs that we lost were lost before the economic policies we put in place had any effect.\\teconomy,job-accomplishments,jobs,stimulus\\tbarack-obama\\tPresident\\tIllinois\\tdemocrat\\t70\\t71\\t160\\t163\\t9\\tan interview on The Daily Show with Jon Stewart\"'"
      ]
     },
     "execution_count": 51,
     "metadata": {},
     "output_type": "execute_result"
    }
   ],
   "source": [
    "subj_na.loc[2142, 'Statement']"
   ]
  },
  {
   "cell_type": "markdown",
   "metadata": {},
   "source": [
    "It looks like we do have all the information, however it wasn't parsed correctly. If we look into the raw dataset - here's how this particular row looks like:\n",
    "\n",
    "`638.json\tfalse\t\"The fact is that although we have had a president who is opposed to abortion over the last eight years, abortions have not gone down.''\tabortion\tbarack-obama\tPresident\tIllinois\tdemocrat\t70\t71\t160\t163\t9\ta TV interview with megachurch pastor Rick Warren in Lake Forest, Calif.`\n",
    "\n",
    "The issue is with the incorrect quotation marks, which confused `pandas`. Let us try to fix that."
   ]
  },
  {
   "cell_type": "code",
   "execution_count": 39,
   "metadata": {},
   "outputs": [
    {
     "name": "stdout",
     "output_type": "stream",
     "text": [
      "[\"The fact is that although we have had a president who is opposed to abortion over the last eight years, abortions have not gone down.''\\tabortion\", 'barack-obama', 'President', 'Illinois', 'democrat', '70', '71', '160', '163', '9', 'a TV interview with megachurch pastor Rick Warren in Lake Forest, Calif.\\n2724.json', 'true', 'Most of the jobs that we lost were lost before the economic policies we put in place had any effect.', 'economy,job-accomplishments,jobs,stimulus', 'barack-obama', 'President', 'Illinois', 'democrat', '70', '71', '160', '163', '9', 'an interview on The Daily Show with Jon Stewart\"']\n"
     ]
    }
   ],
   "source": [
    "result_list = re.split(r'(?<!\\')\\t', subj_na.loc[2142, 'Statement'])\n",
    "\n",
    "# Remove any remaining single quotes around the first and last elements\n",
    "result_list[0] = result_list[0].lstrip('\\'')\n",
    "result_list[-1] = result_list[-1].rstrip('\\'')\n",
    "\n",
    "print(result_list)"
   ]
  },
  {
   "cell_type": "markdown",
   "metadata": {},
   "source": [
    "Instead of cleaning the document line by line we could remove all the punctuation before feeding it to `pandas`. We will define two functions for that."
   ]
  },
  {
   "cell_type": "code",
   "execution_count": 38,
   "metadata": {},
   "outputs": [],
   "source": [
    "def remove_punctuation(text):\n",
    "    words = word_tokenize(text)\n",
    "    words_without_punct = [word for word in words if word not in punctuation]\n",
    "    clean_text = ' '.join(words_without_punct)\n",
    "    \n",
    "    return clean_text\n",
    "\n",
    "def process_tsv(input_file, output_file):\n",
    "    with open(input_file, 'r', encoding='utf-8') as f_in:\n",
    "        with open(output_file, 'w', encoding='utf-8') as f_out:\n",
    "            for line in f_in:\n",
    "                fields = line.strip().split('\\t')\n",
    "                clean_fields = [remove_punctuation(field) for field in fields]\n",
    "                f_out.write('\\t'.join(clean_fields) + '\\n')"
   ]
  },
  {
   "cell_type": "markdown",
   "metadata": {},
   "source": [
    "Now let us try to process our train.tsv file."
   ]
  },
  {
   "cell_type": "code",
   "execution_count": 23,
   "metadata": {},
   "outputs": [],
   "source": [
    "input_file = \"dataset/train.tsv\"\n",
    "output_file = \"dataset/train-cleaned.tsv\"\n",
    "\n",
    "process_tsv(input_file, output_file)"
   ]
  },
  {
   "cell_type": "markdown",
   "metadata": {},
   "source": [
    "We can re-load the dataset into the data frame and see if it's any better after cleaning."
   ]
  },
  {
   "cell_type": "code",
   "execution_count": 5,
   "metadata": {},
   "outputs": [
    {
     "data": {
      "text/html": [
       "<div>\n",
       "<style scoped>\n",
       "    .dataframe tbody tr th:only-of-type {\n",
       "        vertical-align: middle;\n",
       "    }\n",
       "\n",
       "    .dataframe tbody tr th {\n",
       "        vertical-align: top;\n",
       "    }\n",
       "\n",
       "    .dataframe thead th {\n",
       "        text-align: right;\n",
       "    }\n",
       "</style>\n",
       "<table border=\"1\" class=\"dataframe\">\n",
       "  <thead>\n",
       "    <tr style=\"text-align: right;\">\n",
       "      <th></th>\n",
       "      <th>Statement ID</th>\n",
       "      <th>Label</th>\n",
       "      <th>Statement</th>\n",
       "      <th>Subject</th>\n",
       "      <th>Speaker</th>\n",
       "      <th>Speaker's job title</th>\n",
       "      <th>State</th>\n",
       "      <th>Party affiliation</th>\n",
       "      <th>Barely true</th>\n",
       "      <th>False</th>\n",
       "      <th>Half true</th>\n",
       "      <th>Mostly true</th>\n",
       "      <th>Pants on fire</th>\n",
       "      <th>Statement context</th>\n",
       "    </tr>\n",
       "  </thead>\n",
       "  <tbody>\n",
       "    <tr>\n",
       "      <th>0</th>\n",
       "      <td>2635.json</td>\n",
       "      <td>false</td>\n",
       "      <td>Says the Annies List political group supports ...</td>\n",
       "      <td>abortion</td>\n",
       "      <td>dwayne-bohac</td>\n",
       "      <td>State representative</td>\n",
       "      <td>Texas</td>\n",
       "      <td>republican</td>\n",
       "      <td>0</td>\n",
       "      <td>1</td>\n",
       "      <td>0</td>\n",
       "      <td>0</td>\n",
       "      <td>0</td>\n",
       "      <td>a mailer</td>\n",
       "    </tr>\n",
       "    <tr>\n",
       "      <th>1</th>\n",
       "      <td>10540.json</td>\n",
       "      <td>half-true</td>\n",
       "      <td>When did the decline of coal start It started ...</td>\n",
       "      <td>energy history job-accomplishments</td>\n",
       "      <td>scott-surovell</td>\n",
       "      <td>State delegate</td>\n",
       "      <td>Virginia</td>\n",
       "      <td>democrat</td>\n",
       "      <td>0</td>\n",
       "      <td>0</td>\n",
       "      <td>1</td>\n",
       "      <td>1</td>\n",
       "      <td>0</td>\n",
       "      <td>a floor speech</td>\n",
       "    </tr>\n",
       "    <tr>\n",
       "      <th>2</th>\n",
       "      <td>324.json</td>\n",
       "      <td>mostly-true</td>\n",
       "      <td>Hillary Clinton agrees with John McCain `` by ...</td>\n",
       "      <td>foreign-policy</td>\n",
       "      <td>barack-obama</td>\n",
       "      <td>President</td>\n",
       "      <td>Illinois</td>\n",
       "      <td>democrat</td>\n",
       "      <td>70</td>\n",
       "      <td>71</td>\n",
       "      <td>160</td>\n",
       "      <td>163</td>\n",
       "      <td>9</td>\n",
       "      <td>Denver</td>\n",
       "    </tr>\n",
       "    <tr>\n",
       "      <th>3</th>\n",
       "      <td>1123.json</td>\n",
       "      <td>false</td>\n",
       "      <td>Health care reform legislation is likely to ma...</td>\n",
       "      <td>health-care</td>\n",
       "      <td>blog-posting</td>\n",
       "      <td>NaN</td>\n",
       "      <td>NaN</td>\n",
       "      <td>none</td>\n",
       "      <td>7</td>\n",
       "      <td>19</td>\n",
       "      <td>3</td>\n",
       "      <td>5</td>\n",
       "      <td>44</td>\n",
       "      <td>a news release</td>\n",
       "    </tr>\n",
       "    <tr>\n",
       "      <th>4</th>\n",
       "      <td>9028.json</td>\n",
       "      <td>half-true</td>\n",
       "      <td>The economic turnaround started at the end of ...</td>\n",
       "      <td>economy jobs</td>\n",
       "      <td>charlie-crist</td>\n",
       "      <td>NaN</td>\n",
       "      <td>Florida</td>\n",
       "      <td>democrat</td>\n",
       "      <td>15</td>\n",
       "      <td>9</td>\n",
       "      <td>20</td>\n",
       "      <td>19</td>\n",
       "      <td>2</td>\n",
       "      <td>an interview on CNN</td>\n",
       "    </tr>\n",
       "  </tbody>\n",
       "</table>\n",
       "</div>"
      ],
      "text/plain": [
       "  Statement ID        Label  \\\n",
       "0    2635.json        false   \n",
       "1   10540.json    half-true   \n",
       "2     324.json  mostly-true   \n",
       "3    1123.json        false   \n",
       "4    9028.json    half-true   \n",
       "\n",
       "                                           Statement  \\\n",
       "0  Says the Annies List political group supports ...   \n",
       "1  When did the decline of coal start It started ...   \n",
       "2  Hillary Clinton agrees with John McCain `` by ...   \n",
       "3  Health care reform legislation is likely to ma...   \n",
       "4  The economic turnaround started at the end of ...   \n",
       "\n",
       "                              Subject         Speaker   Speaker's job title  \\\n",
       "0                            abortion    dwayne-bohac  State representative   \n",
       "1  energy history job-accomplishments  scott-surovell        State delegate   \n",
       "2                      foreign-policy    barack-obama             President   \n",
       "3                         health-care    blog-posting                   NaN   \n",
       "4                        economy jobs   charlie-crist                   NaN   \n",
       "\n",
       "      State Party affiliation  Barely true  False  Half true  Mostly true  \\\n",
       "0     Texas        republican            0      1          0            0   \n",
       "1  Virginia          democrat            0      0          1            1   \n",
       "2  Illinois          democrat           70     71        160          163   \n",
       "3       NaN              none            7     19          3            5   \n",
       "4   Florida          democrat           15      9         20           19   \n",
       "\n",
       "   Pants on fire    Statement context  \n",
       "0              0             a mailer  \n",
       "1              0       a floor speech  \n",
       "2              9               Denver  \n",
       "3             44       a news release  \n",
       "4              2  an interview on CNN  "
      ]
     },
     "execution_count": 5,
     "metadata": {},
     "output_type": "execute_result"
    }
   ],
   "source": [
    "liar_df = pd.read_csv(\"dataset/train-cleaned.tsv\", sep='\\t', header=None)\n",
    "liar_df.columns = column_names\n",
    "liar_df.head()"
   ]
  },
  {
   "cell_type": "markdown",
   "metadata": {},
   "source": [
    "Let us check column values and the problematic row we had before."
   ]
  },
  {
   "cell_type": "code",
   "execution_count": 28,
   "metadata": {},
   "outputs": [
    {
     "data": {
      "text/plain": [
       "Statement ID                                                    638.json\n",
       "Label                                                              false\n",
       "Statement              `` The fact is that although we have had a pre...\n",
       "Subject                                                         abortion\n",
       "Speaker                                                     barack-obama\n",
       "Speaker's job title                                            President\n",
       "State                                                           Illinois\n",
       "Party affiliation                                               democrat\n",
       "Barely true                                                           70\n",
       "False                                                                 71\n",
       "Half true                                                            160\n",
       "Mostly true                                                          163\n",
       "Pants on fire                                                          9\n",
       "Statement context      a TV interview with megachurch pastor Rick War...\n",
       "Name: 2154, dtype: object"
      ]
     },
     "execution_count": 28,
     "metadata": {},
     "output_type": "execute_result"
    }
   ],
   "source": [
    "liar_df.loc[2154]"
   ]
  },
  {
   "cell_type": "code",
   "execution_count": 31,
   "metadata": {},
   "outputs": [
    {
     "data": {
      "text/plain": [
       "{'NaN Check': Label            False\n",
       " Statement        False\n",
       " Subject          False\n",
       " Barely true      False\n",
       " False            False\n",
       " Half true        False\n",
       " Mostly true      False\n",
       " Pants on fire    False\n",
       " dtype: bool,\n",
       " 'Empty String Check': Label            False\n",
       " Statement        False\n",
       " Subject          False\n",
       " Barely true      False\n",
       " False            False\n",
       " Half true        False\n",
       " Mostly true      False\n",
       " Pants on fire    False\n",
       " dtype: bool,\n",
       " 'None Check': Label            False\n",
       " Statement        False\n",
       " Subject          False\n",
       " Barely true      False\n",
       " False            False\n",
       " Half true        False\n",
       " Mostly true      False\n",
       " Pants on fire    False\n",
       " dtype: bool}"
      ]
     },
     "execution_count": 31,
     "metadata": {},
     "output_type": "execute_result"
    }
   ],
   "source": [
    "check_column_values(liar_df, ['Label', 'Statement', 'Subject', 'Barely true', 'False', 'Half true', 'Mostly true', 'Pants on fire'])"
   ]
  },
  {
   "cell_type": "code",
   "execution_count": 32,
   "metadata": {},
   "outputs": [
    {
     "name": "stdout",
     "output_type": "stream",
     "text": [
      "<class 'pandas.core.frame.DataFrame'>\n",
      "Index: 0 entries\n",
      "Data columns (total 14 columns):\n",
      " #   Column               Non-Null Count  Dtype \n",
      "---  ------               --------------  ----- \n",
      " 0   Statement ID         0 non-null      object\n",
      " 1   Label                0 non-null      object\n",
      " 2   Statement            0 non-null      object\n",
      " 3   Subject              0 non-null      object\n",
      " 4   Speaker              0 non-null      object\n",
      " 5   Speaker's job title  0 non-null      object\n",
      " 6   State                0 non-null      object\n",
      " 7   Party affiliation    0 non-null      object\n",
      " 8   Barely true          0 non-null      int64 \n",
      " 9   False                0 non-null      int64 \n",
      " 10  Half true            0 non-null      int64 \n",
      " 11  Mostly true          0 non-null      int64 \n",
      " 12  Pants on fire        0 non-null      int64 \n",
      " 13  Statement context    0 non-null      object\n",
      "dtypes: int64(5), object(9)\n",
      "memory usage: 0.0+ bytes\n"
     ]
    }
   ],
   "source": [
    "subj_na = liar_df[liar_df['Subject'].isna()]\n",
    "subj_na.info()"
   ]
  },
  {
   "cell_type": "markdown",
   "metadata": {},
   "source": [
    "Looks like we have all the data we need, however, there are still small artifacts left, like in the row 2154 we have redundant `` marks. We will address this issue in the Text processing section."
   ]
  },
  {
   "cell_type": "markdown",
   "metadata": {},
   "source": [
    "## 2. Simple Data Exploratory Analysis"
   ]
  },
  {
   "cell_type": "markdown",
   "metadata": {},
   "source": [
    "Before diving into feature extraction and model training, it's crucial to start with exploratory data analysis (EDA). EDA helps us get familiar with the dataset's characteristics, ensuring we make informed decisions later on. First of all, we'll look at the balance of the labels we have in our dataset. If some categories are much more common than others, our model might end up biased, good at recognizing the common ones and bad at spotting the rare ones. After labels, we'll check out the text itself. How long are the pieces? Are fake news articles longer or shorter than true ones, or is there no simple pattern? The visualizations below will provide us with some answers.\n",
    "\n",
    "First of all, tet us explore what labels we have in our dataset."
   ]
  },
  {
   "cell_type": "code",
   "execution_count": 6,
   "metadata": {},
   "outputs": [
    {
     "name": "stdout",
     "output_type": "stream",
     "text": [
      "['false' 'half-true' 'mostly-true' 'true' 'barely-true' 'pants-fire']\n"
     ]
    }
   ],
   "source": [
    "labels = liar_df['Label'].unique()\n",
    "print(labels)"
   ]
  },
  {
   "cell_type": "markdown",
   "metadata": {},
   "source": [
    "We will build a couple of plots to visualize the distribution of text across the categories, word count distribution and word count by category."
   ]
  },
  {
   "cell_type": "code",
   "execution_count": 8,
   "metadata": {},
   "outputs": [],
   "source": [
    "def plot_category_distribution(df, category_column):\n",
    "    \"\"\"\n",
    "    Plots the distribution of texts across different categories.\n",
    "\n",
    "    Parameters:\n",
    "    - df: pandas DataFrame containing the dataset.\n",
    "    - category_column: the name of the column containing the category labels.\n",
    "    \"\"\"\n",
    "    plt.figure(figsize=(10, 6))\n",
    "    sns.countplot(y=category_column, data=df, order = df[category_column].value_counts().index)\n",
    "    plt.title('Distribution of Text Across Categories')\n",
    "    plt.xlabel('Number of Texts')\n",
    "    plt.ylabel('Categories')\n",
    "    plt.show()\n",
    "\n",
    "def plot_word_count_distribution(df, text_column):\n",
    "    \"\"\"\n",
    "    Plots the distribution of word counts in the texts.\n",
    "\n",
    "    Parameters:\n",
    "    - df: pandas DataFrame containing the dataset.\n",
    "    - text_column: the name of the column containing the text data.\n",
    "    \"\"\"\n",
    "    df['word_count'] = df[text_column].apply(lambda x: len(str(x).split()))\n",
    "    \n",
    "    plt.figure(figsize=(12, 6))\n",
    "    sns.histplot(df['word_count'], bins=50, kde=True)\n",
    "    plt.title('Word Count Distribution in Texts')\n",
    "    plt.xlabel('Word Count')\n",
    "    plt.ylabel('Frequency')\n",
    "    plt.show()\n",
    "\n",
    "def plot_word_count_by_category(df, text_column, category_column):\n",
    "    \"\"\"\n",
    "    Plots the distribution of word counts in texts across different categories.\n",
    "\n",
    "    Parameters:\n",
    "    - df: pandas DataFrame containing the dataset.\n",
    "    - text_column: the name of the column containing the text data.\n",
    "    - category_column: the name of the column containing the category labels.\n",
    "    \"\"\"\n",
    "    df['word_count'] = df[text_column].apply(lambda x: len(str(x).split()))\n",
    "    \n",
    "    plt.figure(figsize=(12, 8))\n",
    "    sns.boxplot(x='word_count', y=category_column, data=df)\n",
    "    plt.title('Word Count Distribution by Category')\n",
    "    plt.xlabel('Word Count')\n",
    "    plt.ylabel('Category')\n",
    "    plt.show()\n"
   ]
  },
  {
   "cell_type": "code",
   "execution_count": 9,
   "metadata": {},
   "outputs": [
    {
     "data": {
      "image/png": "[encoded data removed]",
      "text/plain": [
       "<Figure size 1000x600 with 1 Axes>"
      ]
     },
     "metadata": {},
     "output_type": "display_data"
    }
   ],
   "source": [
    "plot_category_distribution(liar_df, \"Label\")"
   ]
  },
  {
   "cell_type": "markdown",
   "metadata": {},
   "source": [
    "Based on the plot above, we can make the following observations:\n",
    "\n",
    "1. **Category Imbalance**: The first observation is that there is a noticeable imbalance in the dataset across the different truthfulness categories. This is evident by the varying bar lengths, indicating the number of texts in each category.\n",
    "\n",
    "2. **Most Common Categories**: The categories \"half-true\" and \"mostly-true\" have the highest number of texts, which suggests that the dataset contains a significant number of claims that are not entirely false or true but fall somewhere in between.\n",
    "\n",
    "3. **Least Common Category**: The \"pants-fire\" category, which likely represents the most extreme level of falsehood, has the fewest texts. This could indicate that outright fabrications or extreme falsehoods are less common in the dataset, or possibly that they are less frequently identified and labeled as such.\n",
    "\n",
    "4. **Potential Bias in Training**: Given the imbalance, a machine learning model trained on this dataset may develop a bias toward the more frequently occurring categories. It's important to consider techniques like oversampling, undersampling, or synthetic data generation to address this imbalance.\n",
    "\n",
    "5. **Labeling Considerations**: The distribution suggests that labeling news as \"true\" or \"false\" might not be straightforward and that there are degrees of truthfulness. This complexity could present a challenge for a model's ability to discern nuances.\n",
    "\n",
    "6. **Model Performance Implications**: The imbalance might affect the model performance differently across categories. For instance, the model might be less accurate for categories with fewer samples, like \"pants-fire\" and \"barely-true\".\n",
    "\n",
    "7. **Data Collection and Curation**: The distribution may reflect the nature of the data collection and curation processes. It might be worthwhile to investigate why some categories have more examples than others. Is it due to the nature of news circulation, the methodology of data collection, or some other factors?\n",
    "\n",
    "This plot highlights the need to consider the distribution of categories in model training and evaluation. It suggests that some categories of truthfulness are more commonly represented in the dataset, which could influence both the training process and the final performance of a machine learning model. It also raises questions about the nature of the data collection process and the potential need for data augmentation strategies to address category imbalance.\n",
    "\n",
    "Now let us have a look at the word count distribution."
   ]
  },
  {
   "cell_type": "code",
   "execution_count": 11,
   "metadata": {},
   "outputs": [
    {
     "data": {
      "image/png": "[encoded data removed]",
      "text/plain": [
       "<Figure size 1200x600 with 1 Axes>"
      ]
     },
     "metadata": {},
     "output_type": "display_data"
    }
   ],
   "source": [
    "plot_word_count_distribution(liar_df, \"Statement\")"
   ]
  },
  {
   "cell_type": "markdown",
   "metadata": {},
   "source": [
    "The \"Word Count Distribution in Texts\" plot displays the frequency of texts with a given word count, and we can interpret the following:\n",
    "\n",
    "1. **Most Common Word Count**: The majority of texts have word counts in the range of approximately 10 to 20 words. This peak suggests that the dataset largely consists of short statements or claims, which is typical for datasets comprised of headlines or short excerpts.\n",
    "\n",
    "2. **Skewness**: The distribution is right-skewed, meaning there are fewer texts with a very high word count. This indicates that while most of the news items are concise, there are some that are considerably longer.\n",
    "\n",
    "3. **Potential Outliers**: The tail of the distribution, where the word count is above 40, suggests there are potential outliers in the dataset. These could be longer articles or detailed statements.\n",
    "\n",
    "4. **Text Length Considerations for ML Models**: Short texts may not provide enough context for certain machine learning models to accurately classify them, and longer texts could introduce noise. It's important to consider the impact of text length when designing features and choosing or training models.\n",
    "\n",
    "5. **Preprocessing and Feature Engineering**: The skewness in word count might motivate different text preprocessing strategies. For example, padding might be necessary for models that expect input of a uniform length, or truncation might be applied to very long texts to maintain computational efficiency.\n",
    "\n",
    "6. **Dataset Representation**: The word count distribution can also inform about the representativeness of the dataset. If the dataset is intended to represent a variety of news items, the model might be biased towards understanding and classifying shorter texts better than longer ones.\n",
    "\n",
    "In conclusion, this plot suggests that any machine learning model we develop will need to handle a wide range of text lengths, with a focus on shorter texts due to their prevalence in the dataset. We might also need to consider special treatment for the longer texts to ensure that they are not treated as outliers by the model. Additionally, the skewness of the distribution could affect the model's ability to generalize across texts of varying lengths."
   ]
  },
  {
   "cell_type": "code",
   "execution_count": 13,
   "metadata": {},
   "outputs": [
    {
     "data": {
      "image/png": "[encoded data removed]",
      "text/plain": [
       "<Figure size 1200x800 with 1 Axes>"
      ]
     },
     "metadata": {},
     "output_type": "display_data"
    }
   ],
   "source": [
    "plot_word_count_by_category(liar_df, \"Statement\", \"Label\")"
   ]
  },
  {
   "cell_type": "markdown",
   "metadata": {},
   "source": [
    "The \"Word Count Distribution by Category\" plot can tell us the following:\n",
    "\n",
    "1. **Central Tendency and Spread**: Each box plot shows the median word count (the line inside the box), the interquartile range (the box itself), and the range (the \"whiskers\" extending from the box). This provides a clear view of the central tendency and variability within each category.\n",
    "\n",
    "2. **Consistency Across Categories**: The median word counts across categories appear to be somewhat consistent, suggesting that the average length of text does not vary dramatically between different truthfulness categories.\n",
    "\n",
    "3. **Outliers**: There are a number of outliers in each category, represented by the dots outside the whiskers. These indicate texts that are significantly longer than the majority within their respective categories.\n",
    "\n",
    "4. **Comparison of Extremes**: The \"pants-fire\" category (which represents a clear falsehood) does not show a significantly different word count distribution from the other categories, indicating that the length of a statement or article is not necessarily an indicator of its truthfulness.\n",
    "\n",
    "5. **Model Feature Engineering**: When engineering features for the machine learning model, this plot suggests that the word count feature might not be a strong discriminator on its own between truthfulness categories. However, it may still provide useful information when combined with other features.\n",
    "\n",
    "While there is variation in text length within each category, the central tendency is quite consistent across categories. Outliers are present in all categories, which is an important consideration for model training. The word count alone may not be a strong feature for predicting truthfulness, but it could be part of a suite of features that, when combined, contribute to a more accurate model."
   ]
  },
  {
   "cell_type": "markdown",
   "metadata": {},
   "source": [
    "This preliminary exploratory data analysis has provided us with valuable insights into the structure and composition of the dataset, which is critical for developing an effective machine learning model for classifying news as fake or real. Through visual examination of the data, we have uncovered several potential caveats that need to be addressed during the data preparation phase.\n",
    "\n",
    "Firstly, the class imbalance highlighted by the category distribution plot is a key concern. It has shed light on the skewed nature of the dataset, with certain truthfulness categories being overrepresented and others underrepresented. This imbalance can lead to biased model predictions, and we will need strategies like resampling or using class weights during model training to ensure each category is appropriately represented.\n",
    "\n",
    "The word count distribution analysis has revealed the variance in the length of texts across the dataset. The predominance of shorter texts and the presence of outliers suggest that the predictive model will need to handle a wide range of input lengths. This influences preprocessing decisions, such as whether to pad shorter texts or truncate longer ones, and it also has implications for feature engineering, particularly in the choice of using word or character n-grams.\n",
    "\n",
    "Let us now proceed with the next step - text processing."
   ]
  },
  {
   "cell_type": "markdown",
   "metadata": {},
   "source": [
    "## 3. Text Preprocessing"
   ]
  },
  {
   "cell_type": "markdown",
   "metadata": {},
   "source": [
    "Now that we know how the data looks like - we can proceed with the next steps. We will employ the default NLP technics to cleanup our text:\n",
    "\n",
    "1. **Tokenization**: refers to breaking the unstructured text into pieces of information that can be considered as discrete elements - tokens.\n",
    "2. **Punctuation removal**: there are cases where punctuation can indicate some interesting features in the text, but in the context of our research it is not necessary. \n",
    "3. **Lower case**: to avoid having the same words written in different cases counted as separate words it is a good practice to normalize the case throughout the entire text.\n",
    "4. **Numbers conversion**: we will convert all the numbers into words to preserve the meaning.\n",
    "5. **Stop Words Removal**: since a lot of words are not carrying significant meaning in the sentence - they can be considered as noise and removed. Sometimes it is a good idea to extend the list of stop words, however, in our case the data describes very different events, so we will use the standard list. \n",
    "6. **Stemming**: it is a process of reducing the words to its root. The main purpose of stemming is to reduce the frequency of derived words."
   ]
  },
  {
   "cell_type": "markdown",
   "metadata": {},
   "source": [
    "We already have `word_tokenize` and `remove_punctuation` functions, let us define the missing functions."
   ]
  },
  {
   "cell_type": "code",
   "execution_count": 45,
   "metadata": {},
   "outputs": [],
   "source": [
    "def convert_lower_case(data):\n",
    "    return [word.lower() for word in data]\n",
    "\n",
    "def convert_numbers(data):\n",
    "    new_data = []\n",
    "    for word in data:\n",
    "        # Remove commas and other punctuation from the word to check if it's a number\n",
    "        stripped_word = re.sub(r'[^\\w\\s]', '', word)\n",
    "        if stripped_word.isdigit():\n",
    "            # Convert to word using num2words, then replace the original word in the list\n",
    "            word = num2words(int(stripped_word))\n",
    "        new_data.append(word)\n",
    "    return new_data\n",
    "\n",
    "\n",
    "def remove_stop_words(data):\n",
    "    stop_words = set(stopwords.words('english'))\n",
    "    return [word for word in data if word not in stop_words]\n",
    "\n",
    "def stemming(data):\n",
    "    stemmer = PorterStemmer()\n",
    "    return [stemmer.stem(word) for word in data]"
   ]
  },
  {
   "cell_type": "markdown",
   "metadata": {},
   "source": [
    "Our processing pipeline now looks like this:"
   ]
  },
  {
   "cell_type": "code",
   "execution_count": 42,
   "metadata": {},
   "outputs": [],
   "source": [
    "def preprocess(data):\n",
    "    data = remove_punctuation(data)\n",
    "    data = word_tokenize(data)\n",
    "    data = convert_lower_case(data)\n",
    "    data = convert_numbers(data)\n",
    "    data = remove_stop_words(data)\n",
    "    data = stemming(data)\n",
    "\n",
    "    return data"
   ]
  },
  {
   "cell_type": "markdown",
   "metadata": {},
   "source": [
    "Let us try to process a piece of text to make sure we didn't miss anything."
   ]
  },
  {
   "cell_type": "code",
   "execution_count": 34,
   "metadata": {},
   "outputs": [
    {
     "data": {
      "text/plain": [
       "'Says Scott Walker favors cutting up to 350,000 families and children off health care'"
      ]
     },
     "execution_count": 34,
     "metadata": {},
     "output_type": "execute_result"
    }
   ],
   "source": [
    "liar_df.iloc[23][\"Statement\"]"
   ]
  },
  {
   "cell_type": "code",
   "execution_count": 47,
   "metadata": {},
   "outputs": [
    {
     "data": {
      "text/plain": [
       "['say',\n",
       " 'scott',\n",
       " 'walker',\n",
       " 'favor',\n",
       " 'cut',\n",
       " 'three hundred and fifty thousand',\n",
       " 'famili',\n",
       " 'children',\n",
       " 'health',\n",
       " 'care']"
      ]
     },
     "execution_count": 47,
     "metadata": {},
     "output_type": "execute_result"
    }
   ],
   "source": [
    "preprocess(liar_df.iloc[23][\"Statement\"])"
   ]
  },
  {
   "cell_type": "markdown",
   "metadata": {},
   "source": [
    "Everything seems to be working correctly. Now we can move on to the next step - Feature engineering."
   ]
  },
  {
   "cell_type": "markdown",
   "metadata": {},
   "source": [
    "## 4. Feature Engineering"
   ]
  },
  {
   "cell_type": "markdown",
   "metadata": {},
   "source": [
    "### 4.1 TF-IDF\n",
    "TF-IDF is useful for determining the importance of a word in a document relative to a collection of documents. It helps identify significant terms in a document, which can then be used for classification or similarity scoring. Fake news often contains certain distinctive terms or phrases that can be detected using TF-IDF."
   ]
  },
  {
   "cell_type": "markdown",
   "metadata": {},
   "source": [
    "\"we selected less but effective features which includes: number of words, number of characters, number of sentences, average word length, average sentence length and Name Entity recognition-based features. For NER feature, we extracted the following information from the text: person, org, date, time, FAC (airports, buildings etc.), GPE (countries, cities etc.), product, work of art (book titles, song titles etc.), language, money and cardinal.\" from [this article](https://www.sciencedirect.com/science/article/pii/S0167739X20330466?casa_token=hadEvpdcI4UAAAAA:3xXJTOIJ8qbp0mqKWehCl_agAtxV-1iqSH3jmm8ER4cSOvZ5kWEfXJ38xKBwigR1W5RZUp1F1Kg)"
   ]
  }
 ],
 "metadata": {
  "kernelspec": {
   "display_name": "Python 3",
   "language": "python",
   "name": "python3"
  },
  "language_info": {
   "codemirror_mode": {
    "name": "ipython",
    "version": 3
   },
   "file_extension": ".py",
   "mimetype": "text/x-python",
   "name": "python",
   "nbconvert_exporter": "python",
   "pygments_lexer": "ipython3",
   "version": "3.11.7"
  }
 },
 "nbformat": 4,
 "nbformat_minor": 2
}
