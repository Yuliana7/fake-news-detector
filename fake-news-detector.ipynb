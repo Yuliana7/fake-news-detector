{
 "cells": [
  {
   "cell_type": "markdown",
   "metadata": {},
   "source": [
    "# Fake News Detection: What NLP tools available can help us tackle this issue?"
   ]
  },
  {
   "cell_type": "markdown",
   "metadata": {},
   "source": [
    "## Introduction\n",
    "\n",
    "The rise of fake news and propaganda has sparked numerous research efforts to address the problem using machine learning (ML). Some researchers concentrate on Deep Learning techniques, while others opt for a more hands-on approach. This study seeks to merge these two approaches by undertaking feature engineering. Our goal is to create features that can be leveraged for training neural networks, effectively bridging the gap between manual methods and automated Deep Learning techniques."
   ]
  },
  {
   "cell_type": "markdown",
   "metadata": {},
   "source": [
    "NLP project plan:\n",
    "\n",
    "1. Data Acquisition\n",
    "2. Text Cleaning\n",
    "3. Text Processing\n",
    "   - Sentence segmentation\n",
    "   - Tokenization\n",
    "   - Linguistic analysis:\n",
    "        * Morphology (lemmatization, stemming)\n",
    "        * Syntax (grammars, parse trees, syntactic parsing)\n",
    "4. Feature Engineering\n",
    "   - TF-IDF with ensamble method\n",
    "   - NER\n",
    "   - Embeddings (one hot encoding)\n",
    "   - N-grams\n",
    "   - Word2Vec\n",
    "   - not SVM /LDA!1  \n",
    "5. Feature Extraction\n",
    "   - Chi2\n",
    "6. Further work (model building)\n",
    "7. Conclusions"
   ]
  },
  {
   "cell_type": "markdown",
   "metadata": {},
   "source": [
    "Before jumping to the code, let us import all the tools necessary for this project."
   ]
  },
  {
   "cell_type": "code",
   "execution_count": 33,
   "metadata": {},
   "outputs": [],
   "source": [
    "import pandas as pd\n",
    "import numpy as np\n",
    "import matplotlib as plot\n",
    "\n",
    "import nltk\n",
    "from nltk.tokenize import word_tokenize\n",
    "from string import punctuation\n",
    "\n",
    "import re\n",
    "import csv"
   ]
  },
  {
   "cell_type": "code",
   "execution_count": null,
   "metadata": {},
   "outputs": [],
   "source": [
    "nltk.download('punkt')"
   ]
  },
  {
   "cell_type": "markdown",
   "metadata": {},
   "source": [
    "## 1. Data Acquisition\n",
    "\n",
    "In this project we will be using [LIAR](https://paperswithcode.com/dataset/liar) dataset. We have downloaded the resources into the `dataset` folder, so now we can load the data into `pandas` data frame."
   ]
  },
  {
   "cell_type": "code",
   "execution_count": 25,
   "metadata": {},
   "outputs": [],
   "source": [
    "liar_df = pd.read_csv(\"dataset/train.tsv\", sep='\\t', header=None)"
   ]
  },
  {
   "cell_type": "markdown",
   "metadata": {},
   "source": [
    "According to the documentation, the dataset has the following columns:\n",
    "\n",
    "    Column 1: the ID of the statement ([ID].json).\n",
    "    Column 2: the label.\n",
    "    Column 3: the statement.\n",
    "    Column 4: the subject(s).\n",
    "    Column 5: the speaker.\n",
    "    Column 6: the speaker's job title.\n",
    "    Column 7: the state info.\n",
    "    Column 8: the party affiliation.\n",
    "    Column 9-13: the total credit history count, including the current statement.\n",
    "    9: barely true counts.\n",
    "    10: false counts.\n",
    "    11: half true counts.\n",
    "    12: mostly true counts.\n",
    "    13: pants on fire counts.\n",
    "    Column 14: the context (venue / location of the speech or statement)."
   ]
  },
  {
   "cell_type": "markdown",
   "metadata": {},
   "source": [
    "We can define a `column_names` variable to store them and introduce them as headers into our data frame."
   ]
  },
  {
   "cell_type": "code",
   "execution_count": 47,
   "metadata": {},
   "outputs": [
    {
     "data": {
      "text/html": [
       "<div>\n",
       "<style scoped>\n",
       "    .dataframe tbody tr th:only-of-type {\n",
       "        vertical-align: middle;\n",
       "    }\n",
       "\n",
       "    .dataframe tbody tr th {\n",
       "        vertical-align: top;\n",
       "    }\n",
       "\n",
       "    .dataframe thead th {\n",
       "        text-align: right;\n",
       "    }\n",
       "</style>\n",
       "<table border=\"1\" class=\"dataframe\">\n",
       "  <thead>\n",
       "    <tr style=\"text-align: right;\">\n",
       "      <th></th>\n",
       "      <th>Statement ID</th>\n",
       "      <th>Label</th>\n",
       "      <th>Statement</th>\n",
       "      <th>Subject</th>\n",
       "      <th>Speaker</th>\n",
       "      <th>Speaker's job title</th>\n",
       "      <th>State</th>\n",
       "      <th>Party affiliation</th>\n",
       "      <th>Barely true</th>\n",
       "      <th>False</th>\n",
       "      <th>Half true</th>\n",
       "      <th>Mostly true</th>\n",
       "      <th>Pants on fire</th>\n",
       "      <th>Statement context</th>\n",
       "    </tr>\n",
       "  </thead>\n",
       "  <tbody>\n",
       "    <tr>\n",
       "      <th>0</th>\n",
       "      <td>2635.json</td>\n",
       "      <td>false</td>\n",
       "      <td>Says the Annies List political group supports ...</td>\n",
       "      <td>abortion</td>\n",
       "      <td>dwayne-bohac</td>\n",
       "      <td>State representative</td>\n",
       "      <td>Texas</td>\n",
       "      <td>republican</td>\n",
       "      <td>0.0</td>\n",
       "      <td>1.0</td>\n",
       "      <td>0.0</td>\n",
       "      <td>0.0</td>\n",
       "      <td>0.0</td>\n",
       "      <td>a mailer</td>\n",
       "    </tr>\n",
       "    <tr>\n",
       "      <th>1</th>\n",
       "      <td>10540.json</td>\n",
       "      <td>half-true</td>\n",
       "      <td>When did the decline of coal start? It started...</td>\n",
       "      <td>energy,history,job-accomplishments</td>\n",
       "      <td>scott-surovell</td>\n",
       "      <td>State delegate</td>\n",
       "      <td>Virginia</td>\n",
       "      <td>democrat</td>\n",
       "      <td>0.0</td>\n",
       "      <td>0.0</td>\n",
       "      <td>1.0</td>\n",
       "      <td>1.0</td>\n",
       "      <td>0.0</td>\n",
       "      <td>a floor speech.</td>\n",
       "    </tr>\n",
       "    <tr>\n",
       "      <th>2</th>\n",
       "      <td>324.json</td>\n",
       "      <td>mostly-true</td>\n",
       "      <td>Hillary Clinton agrees with John McCain \"by vo...</td>\n",
       "      <td>foreign-policy</td>\n",
       "      <td>barack-obama</td>\n",
       "      <td>President</td>\n",
       "      <td>Illinois</td>\n",
       "      <td>democrat</td>\n",
       "      <td>70.0</td>\n",
       "      <td>71.0</td>\n",
       "      <td>160.0</td>\n",
       "      <td>163.0</td>\n",
       "      <td>9.0</td>\n",
       "      <td>Denver</td>\n",
       "    </tr>\n",
       "    <tr>\n",
       "      <th>3</th>\n",
       "      <td>1123.json</td>\n",
       "      <td>false</td>\n",
       "      <td>Health care reform legislation is likely to ma...</td>\n",
       "      <td>health-care</td>\n",
       "      <td>blog-posting</td>\n",
       "      <td>NaN</td>\n",
       "      <td>NaN</td>\n",
       "      <td>none</td>\n",
       "      <td>7.0</td>\n",
       "      <td>19.0</td>\n",
       "      <td>3.0</td>\n",
       "      <td>5.0</td>\n",
       "      <td>44.0</td>\n",
       "      <td>a news release</td>\n",
       "    </tr>\n",
       "    <tr>\n",
       "      <th>4</th>\n",
       "      <td>9028.json</td>\n",
       "      <td>half-true</td>\n",
       "      <td>The economic turnaround started at the end of ...</td>\n",
       "      <td>economy,jobs</td>\n",
       "      <td>charlie-crist</td>\n",
       "      <td>NaN</td>\n",
       "      <td>Florida</td>\n",
       "      <td>democrat</td>\n",
       "      <td>15.0</td>\n",
       "      <td>9.0</td>\n",
       "      <td>20.0</td>\n",
       "      <td>19.0</td>\n",
       "      <td>2.0</td>\n",
       "      <td>an interview on CNN</td>\n",
       "    </tr>\n",
       "  </tbody>\n",
       "</table>\n",
       "</div>"
      ],
      "text/plain": [
       "  Statement ID        Label  \\\n",
       "0    2635.json        false   \n",
       "1   10540.json    half-true   \n",
       "2     324.json  mostly-true   \n",
       "3    1123.json        false   \n",
       "4    9028.json    half-true   \n",
       "\n",
       "                                           Statement  \\\n",
       "0  Says the Annies List political group supports ...   \n",
       "1  When did the decline of coal start? It started...   \n",
       "2  Hillary Clinton agrees with John McCain \"by vo...   \n",
       "3  Health care reform legislation is likely to ma...   \n",
       "4  The economic turnaround started at the end of ...   \n",
       "\n",
       "                              Subject         Speaker   Speaker's job title  \\\n",
       "0                            abortion    dwayne-bohac  State representative   \n",
       "1  energy,history,job-accomplishments  scott-surovell        State delegate   \n",
       "2                      foreign-policy    barack-obama             President   \n",
       "3                         health-care    blog-posting                   NaN   \n",
       "4                        economy,jobs   charlie-crist                   NaN   \n",
       "\n",
       "      State Party affiliation  Barely true  False  Half true  Mostly true  \\\n",
       "0     Texas        republican          0.0    1.0        0.0          0.0   \n",
       "1  Virginia          democrat          0.0    0.0        1.0          1.0   \n",
       "2  Illinois          democrat         70.0   71.0      160.0        163.0   \n",
       "3       NaN              none          7.0   19.0        3.0          5.0   \n",
       "4   Florida          democrat         15.0    9.0       20.0         19.0   \n",
       "\n",
       "   Pants on fire    Statement context  \n",
       "0            0.0             a mailer  \n",
       "1            0.0      a floor speech.  \n",
       "2            9.0               Denver  \n",
       "3           44.0       a news release  \n",
       "4            2.0  an interview on CNN  "
      ]
     },
     "execution_count": 47,
     "metadata": {},
     "output_type": "execute_result"
    }
   ],
   "source": [
    "column_names = ['Statement ID', 'Label', 'Statement', 'Subject', 'Speaker', 'Speaker\\'s job title', 'State', 'Party affiliation', 'Barely true', 'False', 'Half true', 'Mostly true', 'Pants on fire', 'Statement context']\n",
    "liar_df.columns = column_names\n",
    "\n",
    "liar_df.head()"
   ]
  },
  {
   "cell_type": "code",
   "execution_count": 56,
   "metadata": {},
   "outputs": [
    {
     "name": "stdout",
     "output_type": "stream",
     "text": [
      "<class 'pandas.core.frame.DataFrame'>\n",
      "RangeIndex: 10240 entries, 0 to 10239\n",
      "Data columns (total 14 columns):\n",
      " #   Column               Non-Null Count  Dtype  \n",
      "---  ------               --------------  -----  \n",
      " 0   Statement ID         10240 non-null  object \n",
      " 1   Label                10240 non-null  object \n",
      " 2   Statement            10240 non-null  object \n",
      " 3   Subject              10238 non-null  object \n",
      " 4   Speaker              10238 non-null  object \n",
      " 5   Speaker's job title  7342 non-null   object \n",
      " 6   State                8030 non-null   object \n",
      " 7   Party affiliation    10238 non-null  object \n",
      " 8   Barely true          10238 non-null  float64\n",
      " 9   False                10238 non-null  float64\n",
      " 10  Half true            10238 non-null  float64\n",
      " 11  Mostly true          10238 non-null  float64\n",
      " 12  Pants on fire        10238 non-null  float64\n",
      " 13  Statement context    10138 non-null  object \n",
      "dtypes: float64(5), object(9)\n",
      "memory usage: 1.1+ MB\n"
     ]
    }
   ],
   "source": [
    "liar_df.info()"
   ]
  },
  {
   "cell_type": "markdown",
   "metadata": {},
   "source": [
    "Before manipulating the data, let us make sure that we don't have any missing values that is important to us, like statements and scores. As seen in the `head()` output, there are some missing values in `Speaker's job title`, `State` and `Party affiliation` columns, but that is less important data for our analysis."
   ]
  },
  {
   "cell_type": "code",
   "execution_count": 30,
   "metadata": {},
   "outputs": [],
   "source": [
    "def check_column_values(df, columns_to_check):\n",
    "    nan_check = df[columns_to_check].isna().any()\n",
    "    empty_string_check = (df[columns_to_check] == '').any()\n",
    "    none_check = pd.isna(df[columns_to_check]).any()\n",
    "    \n",
    "    result = {\n",
    "        'NaN Check': nan_check,\n",
    "        'Empty String Check': empty_string_check,\n",
    "        'None Check': none_check\n",
    "    }\n",
    "\n",
    "    return result"
   ]
  },
  {
   "cell_type": "code",
   "execution_count": 48,
   "metadata": {},
   "outputs": [
    {
     "data": {
      "text/plain": [
       "{'NaN Check': Label            False\n",
       " Statement        False\n",
       " Subject           True\n",
       " Barely true       True\n",
       " False             True\n",
       " Half true         True\n",
       " Mostly true       True\n",
       " Pants on fire     True\n",
       " dtype: bool,\n",
       " 'Empty String Check': Label            False\n",
       " Statement        False\n",
       " Subject          False\n",
       " Barely true      False\n",
       " False            False\n",
       " Half true        False\n",
       " Mostly true      False\n",
       " Pants on fire    False\n",
       " dtype: bool,\n",
       " 'None Check': Label            False\n",
       " Statement        False\n",
       " Subject           True\n",
       " Barely true       True\n",
       " False             True\n",
       " Half true         True\n",
       " Mostly true       True\n",
       " Pants on fire     True\n",
       " dtype: bool}"
      ]
     },
     "execution_count": 48,
     "metadata": {},
     "output_type": "execute_result"
    }
   ],
   "source": [
    "check_column_values(liar_df, ['Label', 'Statement', 'Subject', 'Barely true', 'False', 'Half true', 'Mostly true', 'Pants on fire'])"
   ]
  },
  {
   "cell_type": "markdown",
   "metadata": {},
   "source": [
    "It looks like we do have missing values in numerous columns, let us explore them more."
   ]
  },
  {
   "cell_type": "code",
   "execution_count": 49,
   "metadata": {},
   "outputs": [
    {
     "name": "stdout",
     "output_type": "stream",
     "text": [
      "<class 'pandas.core.frame.DataFrame'>\n",
      "Index: 2 entries, 2142 to 9375\n",
      "Data columns (total 14 columns):\n",
      " #   Column               Non-Null Count  Dtype  \n",
      "---  ------               --------------  -----  \n",
      " 0   Statement ID         2 non-null      object \n",
      " 1   Label                2 non-null      object \n",
      " 2   Statement            2 non-null      object \n",
      " 3   Subject              0 non-null      object \n",
      " 4   Speaker              0 non-null      object \n",
      " 5   Speaker's job title  0 non-null      object \n",
      " 6   State                0 non-null      object \n",
      " 7   Party affiliation    0 non-null      object \n",
      " 8   Barely true          0 non-null      float64\n",
      " 9   False                0 non-null      float64\n",
      " 10  Half true            0 non-null      float64\n",
      " 11  Mostly true          0 non-null      float64\n",
      " 12  Pants on fire        0 non-null      float64\n",
      " 13  Statement context    0 non-null      object \n",
      "dtypes: float64(5), object(9)\n",
      "memory usage: 240.0+ bytes\n"
     ]
    }
   ],
   "source": [
    "subj_na = liar_df[liar_df['Subject'].isna()]\n",
    "subj_na.info()"
   ]
  },
  {
   "cell_type": "code",
   "execution_count": 51,
   "metadata": {},
   "outputs": [
    {
     "data": {
      "text/plain": [
       "'The fact is that although we have had a president who is opposed to abortion over the last eight years, abortions have not gone down.\\'\\'\\tabortion\\tbarack-obama\\tPresident\\tIllinois\\tdemocrat\\t70\\t71\\t160\\t163\\t9\\ta TV interview with megachurch pastor Rick Warren in Lake Forest, Calif.\\n2724.json\\ttrue\\tMost of the jobs that we lost were lost before the economic policies we put in place had any effect.\\teconomy,job-accomplishments,jobs,stimulus\\tbarack-obama\\tPresident\\tIllinois\\tdemocrat\\t70\\t71\\t160\\t163\\t9\\tan interview on The Daily Show with Jon Stewart\"'"
      ]
     },
     "execution_count": 51,
     "metadata": {},
     "output_type": "execute_result"
    }
   ],
   "source": [
    "subj_na.loc[2142, 'Statement']"
   ]
  },
  {
   "cell_type": "markdown",
   "metadata": {},
   "source": [
    "It looks like we do have all the information, however it wasn't parsed correctly. If we look into the raw dataset - here's how this particular row looks like:\n",
    "\n",
    "`638.json\tfalse\t\"The fact is that although we have had a president who is opposed to abortion over the last eight years, abortions have not gone down.''\tabortion\tbarack-obama\tPresident\tIllinois\tdemocrat\t70\t71\t160\t163\t9\ta TV interview with megachurch pastor Rick Warren in Lake Forest, Calif.`\n",
    "\n",
    "The issue is with the incorrect quotation marks, which confused `pandas`. Let us try to fix that."
   ]
  },
  {
   "cell_type": "code",
   "execution_count": 39,
   "metadata": {},
   "outputs": [
    {
     "name": "stdout",
     "output_type": "stream",
     "text": [
      "[\"The fact is that although we have had a president who is opposed to abortion over the last eight years, abortions have not gone down.''\\tabortion\", 'barack-obama', 'President', 'Illinois', 'democrat', '70', '71', '160', '163', '9', 'a TV interview with megachurch pastor Rick Warren in Lake Forest, Calif.\\n2724.json', 'true', 'Most of the jobs that we lost were lost before the economic policies we put in place had any effect.', 'economy,job-accomplishments,jobs,stimulus', 'barack-obama', 'President', 'Illinois', 'democrat', '70', '71', '160', '163', '9', 'an interview on The Daily Show with Jon Stewart\"']\n"
     ]
    }
   ],
   "source": [
    "result_list = re.split(r'(?<!\\')\\t', subj_na.loc[2142, 'Statement'])\n",
    "\n",
    "# Remove any remaining single quotes around the first and last elements\n",
    "result_list[0] = result_list[0].lstrip('\\'')\n",
    "result_list[-1] = result_list[-1].rstrip('\\'')\n",
    "\n",
    "print(result_list)"
   ]
  },
  {
   "cell_type": "markdown",
   "metadata": {},
   "source": [
    "Instead of cleaning the document line by line we could remove all the punctuation before feeding it to `pandas`. We will define two functions for that."
   ]
  },
  {
   "cell_type": "code",
   "execution_count": 22,
   "metadata": {},
   "outputs": [],
   "source": [
    "def remove_punctuation(text):\n",
    "    words = word_tokenize(text)\n",
    "    words_without_punct = [word for word in words if word not in punctuation]\n",
    "    clean_text = ' '.join(words_without_punct)\n",
    "    \n",
    "    return clean_text\n",
    "\n",
    "def process_tsv(input_file, output_file):\n",
    "    with open(input_file, 'r', encoding='utf-8') as f_in:\n",
    "        with open(output_file, 'w', encoding='utf-8') as f_out:\n",
    "            for line in f_in:\n",
    "                fields = line.strip().split('\\t')\n",
    "                clean_fields = [remove_punctuation(field) for field in fields]\n",
    "                f_out.write('\\t'.join(clean_fields) + '\\n')"
   ]
  },
  {
   "cell_type": "markdown",
   "metadata": {},
   "source": [
    "Now let us try to process our train.tsv file."
   ]
  },
  {
   "cell_type": "code",
   "execution_count": 23,
   "metadata": {},
   "outputs": [],
   "source": [
    "input_file = \"dataset/train.tsv\"\n",
    "output_file = \"dataset/train-cleaned.tsv\"\n",
    "\n",
    "process_tsv(input_file, output_file)"
   ]
  },
  {
   "cell_type": "markdown",
   "metadata": {},
   "source": [
    "We can re-load the dataset into the data frame and see if it's any better after cleaning."
   ]
  },
  {
   "cell_type": "code",
   "execution_count": 26,
   "metadata": {},
   "outputs": [
    {
     "data": {
      "text/html": [
       "<div>\n",
       "<style scoped>\n",
       "    .dataframe tbody tr th:only-of-type {\n",
       "        vertical-align: middle;\n",
       "    }\n",
       "\n",
       "    .dataframe tbody tr th {\n",
       "        vertical-align: top;\n",
       "    }\n",
       "\n",
       "    .dataframe thead th {\n",
       "        text-align: right;\n",
       "    }\n",
       "</style>\n",
       "<table border=\"1\" class=\"dataframe\">\n",
       "  <thead>\n",
       "    <tr style=\"text-align: right;\">\n",
       "      <th></th>\n",
       "      <th>Statement ID</th>\n",
       "      <th>Label</th>\n",
       "      <th>Statement</th>\n",
       "      <th>Subject</th>\n",
       "      <th>Speaker</th>\n",
       "      <th>Speaker's job title</th>\n",
       "      <th>State</th>\n",
       "      <th>Party affiliation</th>\n",
       "      <th>Barely true</th>\n",
       "      <th>False</th>\n",
       "      <th>Half true</th>\n",
       "      <th>Mostly true</th>\n",
       "      <th>Pants on fire</th>\n",
       "      <th>Statement context</th>\n",
       "    </tr>\n",
       "  </thead>\n",
       "  <tbody>\n",
       "    <tr>\n",
       "      <th>0</th>\n",
       "      <td>2635.json</td>\n",
       "      <td>false</td>\n",
       "      <td>Says the Annies List political group supports ...</td>\n",
       "      <td>abortion</td>\n",
       "      <td>dwayne-bohac</td>\n",
       "      <td>State representative</td>\n",
       "      <td>Texas</td>\n",
       "      <td>republican</td>\n",
       "      <td>0</td>\n",
       "      <td>1</td>\n",
       "      <td>0</td>\n",
       "      <td>0</td>\n",
       "      <td>0</td>\n",
       "      <td>a mailer</td>\n",
       "    </tr>\n",
       "    <tr>\n",
       "      <th>1</th>\n",
       "      <td>10540.json</td>\n",
       "      <td>half-true</td>\n",
       "      <td>When did the decline of coal start It started ...</td>\n",
       "      <td>energy history job-accomplishments</td>\n",
       "      <td>scott-surovell</td>\n",
       "      <td>State delegate</td>\n",
       "      <td>Virginia</td>\n",
       "      <td>democrat</td>\n",
       "      <td>0</td>\n",
       "      <td>0</td>\n",
       "      <td>1</td>\n",
       "      <td>1</td>\n",
       "      <td>0</td>\n",
       "      <td>a floor speech</td>\n",
       "    </tr>\n",
       "    <tr>\n",
       "      <th>2</th>\n",
       "      <td>324.json</td>\n",
       "      <td>mostly-true</td>\n",
       "      <td>Hillary Clinton agrees with John McCain `` by ...</td>\n",
       "      <td>foreign-policy</td>\n",
       "      <td>barack-obama</td>\n",
       "      <td>President</td>\n",
       "      <td>Illinois</td>\n",
       "      <td>democrat</td>\n",
       "      <td>70</td>\n",
       "      <td>71</td>\n",
       "      <td>160</td>\n",
       "      <td>163</td>\n",
       "      <td>9</td>\n",
       "      <td>Denver</td>\n",
       "    </tr>\n",
       "    <tr>\n",
       "      <th>3</th>\n",
       "      <td>1123.json</td>\n",
       "      <td>false</td>\n",
       "      <td>Health care reform legislation is likely to ma...</td>\n",
       "      <td>health-care</td>\n",
       "      <td>blog-posting</td>\n",
       "      <td>NaN</td>\n",
       "      <td>NaN</td>\n",
       "      <td>none</td>\n",
       "      <td>7</td>\n",
       "      <td>19</td>\n",
       "      <td>3</td>\n",
       "      <td>5</td>\n",
       "      <td>44</td>\n",
       "      <td>a news release</td>\n",
       "    </tr>\n",
       "    <tr>\n",
       "      <th>4</th>\n",
       "      <td>9028.json</td>\n",
       "      <td>half-true</td>\n",
       "      <td>The economic turnaround started at the end of ...</td>\n",
       "      <td>economy jobs</td>\n",
       "      <td>charlie-crist</td>\n",
       "      <td>NaN</td>\n",
       "      <td>Florida</td>\n",
       "      <td>democrat</td>\n",
       "      <td>15</td>\n",
       "      <td>9</td>\n",
       "      <td>20</td>\n",
       "      <td>19</td>\n",
       "      <td>2</td>\n",
       "      <td>an interview on CNN</td>\n",
       "    </tr>\n",
       "  </tbody>\n",
       "</table>\n",
       "</div>"
      ],
      "text/plain": [
       "  Statement ID        Label  \\\n",
       "0    2635.json        false   \n",
       "1   10540.json    half-true   \n",
       "2     324.json  mostly-true   \n",
       "3    1123.json        false   \n",
       "4    9028.json    half-true   \n",
       "\n",
       "                                           Statement  \\\n",
       "0  Says the Annies List political group supports ...   \n",
       "1  When did the decline of coal start It started ...   \n",
       "2  Hillary Clinton agrees with John McCain `` by ...   \n",
       "3  Health care reform legislation is likely to ma...   \n",
       "4  The economic turnaround started at the end of ...   \n",
       "\n",
       "                              Subject         Speaker   Speaker's job title  \\\n",
       "0                            abortion    dwayne-bohac  State representative   \n",
       "1  energy history job-accomplishments  scott-surovell        State delegate   \n",
       "2                      foreign-policy    barack-obama             President   \n",
       "3                         health-care    blog-posting                   NaN   \n",
       "4                        economy jobs   charlie-crist                   NaN   \n",
       "\n",
       "      State Party affiliation  Barely true  False  Half true  Mostly true  \\\n",
       "0     Texas        republican            0      1          0            0   \n",
       "1  Virginia          democrat            0      0          1            1   \n",
       "2  Illinois          democrat           70     71        160          163   \n",
       "3       NaN              none            7     19          3            5   \n",
       "4   Florida          democrat           15      9         20           19   \n",
       "\n",
       "   Pants on fire    Statement context  \n",
       "0              0             a mailer  \n",
       "1              0       a floor speech  \n",
       "2              9               Denver  \n",
       "3             44       a news release  \n",
       "4              2  an interview on CNN  "
      ]
     },
     "execution_count": 26,
     "metadata": {},
     "output_type": "execute_result"
    }
   ],
   "source": [
    "liar_df = pd.read_csv(\"dataset/train-cleaned.tsv\", sep='\\t', header=None)\n",
    "liar_df.columns = column_names\n",
    "liar_df.head()"
   ]
  },
  {
   "cell_type": "markdown",
   "metadata": {},
   "source": [
    "Let us check column values and the problematic row we had before."
   ]
  },
  {
   "cell_type": "code",
   "execution_count": 28,
   "metadata": {},
   "outputs": [
    {
     "data": {
      "text/plain": [
       "Statement ID                                                    638.json\n",
       "Label                                                              false\n",
       "Statement              `` The fact is that although we have had a pre...\n",
       "Subject                                                         abortion\n",
       "Speaker                                                     barack-obama\n",
       "Speaker's job title                                            President\n",
       "State                                                           Illinois\n",
       "Party affiliation                                               democrat\n",
       "Barely true                                                           70\n",
       "False                                                                 71\n",
       "Half true                                                            160\n",
       "Mostly true                                                          163\n",
       "Pants on fire                                                          9\n",
       "Statement context      a TV interview with megachurch pastor Rick War...\n",
       "Name: 2154, dtype: object"
      ]
     },
     "execution_count": 28,
     "metadata": {},
     "output_type": "execute_result"
    }
   ],
   "source": [
    "liar_df.loc[2154]"
   ]
  },
  {
   "cell_type": "code",
   "execution_count": 31,
   "metadata": {},
   "outputs": [
    {
     "data": {
      "text/plain": [
       "{'NaN Check': Label            False\n",
       " Statement        False\n",
       " Subject          False\n",
       " Barely true      False\n",
       " False            False\n",
       " Half true        False\n",
       " Mostly true      False\n",
       " Pants on fire    False\n",
       " dtype: bool,\n",
       " 'Empty String Check': Label            False\n",
       " Statement        False\n",
       " Subject          False\n",
       " Barely true      False\n",
       " False            False\n",
       " Half true        False\n",
       " Mostly true      False\n",
       " Pants on fire    False\n",
       " dtype: bool,\n",
       " 'None Check': Label            False\n",
       " Statement        False\n",
       " Subject          False\n",
       " Barely true      False\n",
       " False            False\n",
       " Half true        False\n",
       " Mostly true      False\n",
       " Pants on fire    False\n",
       " dtype: bool}"
      ]
     },
     "execution_count": 31,
     "metadata": {},
     "output_type": "execute_result"
    }
   ],
   "source": [
    "check_column_values(liar_df, ['Label', 'Statement', 'Subject', 'Barely true', 'False', 'Half true', 'Mostly true', 'Pants on fire'])"
   ]
  },
  {
   "cell_type": "code",
   "execution_count": 32,
   "metadata": {},
   "outputs": [
    {
     "name": "stdout",
     "output_type": "stream",
     "text": [
      "<class 'pandas.core.frame.DataFrame'>\n",
      "Index: 0 entries\n",
      "Data columns (total 14 columns):\n",
      " #   Column               Non-Null Count  Dtype \n",
      "---  ------               --------------  ----- \n",
      " 0   Statement ID         0 non-null      object\n",
      " 1   Label                0 non-null      object\n",
      " 2   Statement            0 non-null      object\n",
      " 3   Subject              0 non-null      object\n",
      " 4   Speaker              0 non-null      object\n",
      " 5   Speaker's job title  0 non-null      object\n",
      " 6   State                0 non-null      object\n",
      " 7   Party affiliation    0 non-null      object\n",
      " 8   Barely true          0 non-null      int64 \n",
      " 9   False                0 non-null      int64 \n",
      " 10  Half true            0 non-null      int64 \n",
      " 11  Mostly true          0 non-null      int64 \n",
      " 12  Pants on fire        0 non-null      int64 \n",
      " 13  Statement context    0 non-null      object\n",
      "dtypes: int64(5), object(9)\n",
      "memory usage: 0.0+ bytes\n"
     ]
    }
   ],
   "source": [
    "subj_na = liar_df[liar_df['Subject'].isna()]\n",
    "subj_na.info()"
   ]
  },
  {
   "cell_type": "markdown",
   "metadata": {},
   "source": [
    "Looks like we have all the data we need, however, there are still small artifacts left, like in the row 2154 we have redundant `` marks. We will address this issue in the Text processing section."
   ]
  },
  {
   "cell_type": "markdown",
   "metadata": {},
   "source": [
    "## 2. Text Processing"
   ]
  },
  {
   "cell_type": "markdown",
   "metadata": {},
   "source": [
    "Let us explore what labels we have."
   ]
  },
  {
   "cell_type": "code",
   "execution_count": 51,
   "metadata": {},
   "outputs": [
    {
     "name": "stdout",
     "output_type": "stream",
     "text": [
      "['false' 'half-true' 'mostly-true' 'true' 'barely-true' 'pants-fire']\n"
     ]
    }
   ],
   "source": [
    "labels = liar_df['Label'].unique()\n",
    "print(labels)"
   ]
  },
  {
   "cell_type": "markdown",
   "metadata": {},
   "source": [
    "These labels correspond to the 5 columns with scores that we have in our dataset. Let us now create 6 different dataframes for each category."
   ]
  },
  {
   "cell_type": "code",
   "execution_count": 54,
   "metadata": {},
   "outputs": [],
   "source": [
    "for label in liar_df['Label'].unique():\n",
    "    label_df = liar_df[liar_df['Label'] == label].copy()\n",
    "    \n",
    "    file_name = f\"dataset/{label}_data.csv\"\n",
    "    \n",
    "    label_df.to_csv(file_name, index=False)"
   ]
  },
  {
   "cell_type": "markdown",
   "metadata": {},
   "source": [
    "We want our processing pipeline to look like this:"
   ]
  },
  {
   "cell_type": "code",
   "execution_count": null,
   "metadata": {},
   "outputs": [],
   "source": [
    "def preprocess(data):\n",
    "    data = convert_lower_case(data)\n",
    "    data = remove_punctuation(data)\n",
    "    data = remove_apostrophe(data)\n",
    "    data = remove_single_characters(data)\n",
    "    data = convert_numbers(data)\n",
    "    data = remove_stop_words(data)\n",
    "    data = stemming(data)\n",
    "    data = remove_punctuation(data)\n",
    "    data = convert_numbers(data)"
   ]
  },
  {
   "cell_type": "markdown",
   "metadata": {},
   "source": [
    "As suggested in [this article](https://towardsdatascience.com/tf-idf-for-document-ranking-from-scratch-in-python-on-real-world-dataset-796d339a4089), some methods are repeated on purpose, as it helps to clean the data deeper."
   ]
  },
  {
   "cell_type": "markdown",
   "metadata": {},
   "source": [
    "## 4. Feature Engineering"
   ]
  },
  {
   "cell_type": "markdown",
   "metadata": {},
   "source": [
    "### 4.1 TF-IDF\n",
    "TF-IDF is useful for determining the importance of a word in a document relative to a collection of documents. It helps identify significant terms in a document, which can then be used for classification or similarity scoring. Fake news often contains certain distinctive terms or phrases that can be detected using TF-IDF."
   ]
  }
 ],
 "metadata": {
  "kernelspec": {
   "display_name": "Python 3",
   "language": "python",
   "name": "python3"
  },
  "language_info": {
   "codemirror_mode": {
    "name": "ipython",
    "version": 3
   },
   "file_extension": ".py",
   "mimetype": "text/x-python",
   "name": "python",
   "nbconvert_exporter": "python",
   "pygments_lexer": "ipython3",
   "version": "3.11.7"
  }
 },
 "nbformat": 4,
 "nbformat_minor": 2
}
